{
  "nbformat": 4,
  "nbformat_minor": 0,
  "metadata": {
    "colab": {
      "provenance": [],
      "authorship_tag": "ABX9TyM/63QXnfchViTGu2wDK052",
      "include_colab_link": true
    },
    "kernelspec": {
      "name": "python3",
      "display_name": "Python 3"
    },
    "language_info": {
      "name": "python"
    }
  },
  "cells": [
    {
      "cell_type": "markdown",
      "metadata": {
        "id": "view-in-github",
        "colab_type": "text"
      },
      "source": [
        "<a href=\"https://colab.research.google.com/github/AkashArya96/Movie_Reccomedation/blob/main/Tesla_Stock_Price_Prediction.ipynb\" target=\"_parent\"><img src=\"https://colab.research.google.com/assets/colab-badge.svg\" alt=\"Open In Colab\"/></a>"
      ]
    },
    {
      "cell_type": "code",
      "execution_count": 66,
      "metadata": {
        "id": "unbSCDnYVDMk"
      },
      "outputs": [],
      "source": [
        "import numpy as np\n",
        "import pandas as pd\n",
        "import matplotlib.pyplot as plt\n",
        "from sklearn.preprocessing import MinMaxScaler\n",
        "from keras.models import Sequential\n",
        "from keras.layers import Dense,LSTM,Dropout"
      ]
    },
    {
      "cell_type": "code",
      "source": [
        "data = pd.read_csv('TSLA.csv')"
      ],
      "metadata": {
        "id": "jvcVl07QVs5A"
      },
      "execution_count": 67,
      "outputs": []
    },
    {
      "cell_type": "code",
      "source": [
        "data.head()"
      ],
      "metadata": {
        "colab": {
          "base_uri": "https://localhost:8080/",
          "height": 206
        },
        "id": "jZiEdnnaWAhq",
        "outputId": "51e54e17-5739-42d9-a3e8-a407926d7f0a"
      },
      "execution_count": 68,
      "outputs": [
        {
          "output_type": "execute_result",
          "data": {
            "text/plain": [
              "         Date       Open   High        Low      Close  Adj Close    Volume\n",
              "0  2010-06-29  19.000000  25.00  17.540001  23.889999  23.889999  18766300\n",
              "1  2010-06-30  25.790001  30.42  23.299999  23.830000  23.830000  17187100\n",
              "2  2010-07-01  25.000000  25.92  20.270000  21.959999  21.959999   8218800\n",
              "3  2010-07-02  23.000000  23.10  18.709999  19.200001  19.200001   5139800\n",
              "4  2010-07-06  20.000000  20.00  15.830000  16.110001  16.110001   6866900"
            ],
            "text/html": [
              "\n",
              "  <div id=\"df-09836958-6902-4265-9aca-b78b0832d884\">\n",
              "    <div class=\"colab-df-container\">\n",
              "      <div>\n",
              "<style scoped>\n",
              "    .dataframe tbody tr th:only-of-type {\n",
              "        vertical-align: middle;\n",
              "    }\n",
              "\n",
              "    .dataframe tbody tr th {\n",
              "        vertical-align: top;\n",
              "    }\n",
              "\n",
              "    .dataframe thead th {\n",
              "        text-align: right;\n",
              "    }\n",
              "</style>\n",
              "<table border=\"1\" class=\"dataframe\">\n",
              "  <thead>\n",
              "    <tr style=\"text-align: right;\">\n",
              "      <th></th>\n",
              "      <th>Date</th>\n",
              "      <th>Open</th>\n",
              "      <th>High</th>\n",
              "      <th>Low</th>\n",
              "      <th>Close</th>\n",
              "      <th>Adj Close</th>\n",
              "      <th>Volume</th>\n",
              "    </tr>\n",
              "  </thead>\n",
              "  <tbody>\n",
              "    <tr>\n",
              "      <th>0</th>\n",
              "      <td>2010-06-29</td>\n",
              "      <td>19.000000</td>\n",
              "      <td>25.00</td>\n",
              "      <td>17.540001</td>\n",
              "      <td>23.889999</td>\n",
              "      <td>23.889999</td>\n",
              "      <td>18766300</td>\n",
              "    </tr>\n",
              "    <tr>\n",
              "      <th>1</th>\n",
              "      <td>2010-06-30</td>\n",
              "      <td>25.790001</td>\n",
              "      <td>30.42</td>\n",
              "      <td>23.299999</td>\n",
              "      <td>23.830000</td>\n",
              "      <td>23.830000</td>\n",
              "      <td>17187100</td>\n",
              "    </tr>\n",
              "    <tr>\n",
              "      <th>2</th>\n",
              "      <td>2010-07-01</td>\n",
              "      <td>25.000000</td>\n",
              "      <td>25.92</td>\n",
              "      <td>20.270000</td>\n",
              "      <td>21.959999</td>\n",
              "      <td>21.959999</td>\n",
              "      <td>8218800</td>\n",
              "    </tr>\n",
              "    <tr>\n",
              "      <th>3</th>\n",
              "      <td>2010-07-02</td>\n",
              "      <td>23.000000</td>\n",
              "      <td>23.10</td>\n",
              "      <td>18.709999</td>\n",
              "      <td>19.200001</td>\n",
              "      <td>19.200001</td>\n",
              "      <td>5139800</td>\n",
              "    </tr>\n",
              "    <tr>\n",
              "      <th>4</th>\n",
              "      <td>2010-07-06</td>\n",
              "      <td>20.000000</td>\n",
              "      <td>20.00</td>\n",
              "      <td>15.830000</td>\n",
              "      <td>16.110001</td>\n",
              "      <td>16.110001</td>\n",
              "      <td>6866900</td>\n",
              "    </tr>\n",
              "  </tbody>\n",
              "</table>\n",
              "</div>\n",
              "      <button class=\"colab-df-convert\" onclick=\"convertToInteractive('df-09836958-6902-4265-9aca-b78b0832d884')\"\n",
              "              title=\"Convert this dataframe to an interactive table.\"\n",
              "              style=\"display:none;\">\n",
              "        \n",
              "  <svg xmlns=\"http://www.w3.org/2000/svg\" height=\"24px\"viewBox=\"0 0 24 24\"\n",
              "       width=\"24px\">\n",
              "    <path d=\"M0 0h24v24H0V0z\" fill=\"none\"/>\n",
              "    <path d=\"M18.56 5.44l.94 2.06.94-2.06 2.06-.94-2.06-.94-.94-2.06-.94 2.06-2.06.94zm-11 1L8.5 8.5l.94-2.06 2.06-.94-2.06-.94L8.5 2.5l-.94 2.06-2.06.94zm10 10l.94 2.06.94-2.06 2.06-.94-2.06-.94-.94-2.06-.94 2.06-2.06.94z\"/><path d=\"M17.41 7.96l-1.37-1.37c-.4-.4-.92-.59-1.43-.59-.52 0-1.04.2-1.43.59L10.3 9.45l-7.72 7.72c-.78.78-.78 2.05 0 2.83L4 21.41c.39.39.9.59 1.41.59.51 0 1.02-.2 1.41-.59l7.78-7.78 2.81-2.81c.8-.78.8-2.07 0-2.86zM5.41 20L4 18.59l7.72-7.72 1.47 1.35L5.41 20z\"/>\n",
              "  </svg>\n",
              "      </button>\n",
              "      \n",
              "  <style>\n",
              "    .colab-df-container {\n",
              "      display:flex;\n",
              "      flex-wrap:wrap;\n",
              "      gap: 12px;\n",
              "    }\n",
              "\n",
              "    .colab-df-convert {\n",
              "      background-color: #E8F0FE;\n",
              "      border: none;\n",
              "      border-radius: 50%;\n",
              "      cursor: pointer;\n",
              "      display: none;\n",
              "      fill: #1967D2;\n",
              "      height: 32px;\n",
              "      padding: 0 0 0 0;\n",
              "      width: 32px;\n",
              "    }\n",
              "\n",
              "    .colab-df-convert:hover {\n",
              "      background-color: #E2EBFA;\n",
              "      box-shadow: 0px 1px 2px rgba(60, 64, 67, 0.3), 0px 1px 3px 1px rgba(60, 64, 67, 0.15);\n",
              "      fill: #174EA6;\n",
              "    }\n",
              "\n",
              "    [theme=dark] .colab-df-convert {\n",
              "      background-color: #3B4455;\n",
              "      fill: #D2E3FC;\n",
              "    }\n",
              "\n",
              "    [theme=dark] .colab-df-convert:hover {\n",
              "      background-color: #434B5C;\n",
              "      box-shadow: 0px 1px 3px 1px rgba(0, 0, 0, 0.15);\n",
              "      filter: drop-shadow(0px 1px 2px rgba(0, 0, 0, 0.3));\n",
              "      fill: #FFFFFF;\n",
              "    }\n",
              "  </style>\n",
              "\n",
              "      <script>\n",
              "        const buttonEl =\n",
              "          document.querySelector('#df-09836958-6902-4265-9aca-b78b0832d884 button.colab-df-convert');\n",
              "        buttonEl.style.display =\n",
              "          google.colab.kernel.accessAllowed ? 'block' : 'none';\n",
              "\n",
              "        async function convertToInteractive(key) {\n",
              "          const element = document.querySelector('#df-09836958-6902-4265-9aca-b78b0832d884');\n",
              "          const dataTable =\n",
              "            await google.colab.kernel.invokeFunction('convertToInteractive',\n",
              "                                                     [key], {});\n",
              "          if (!dataTable) return;\n",
              "\n",
              "          const docLinkHtml = 'Like what you see? Visit the ' +\n",
              "            '<a target=\"_blank\" href=https://colab.research.google.com/notebooks/data_table.ipynb>data table notebook</a>'\n",
              "            + ' to learn more about interactive tables.';\n",
              "          element.innerHTML = '';\n",
              "          dataTable['output_type'] = 'display_data';\n",
              "          await google.colab.output.renderOutput(dataTable, element);\n",
              "          const docLink = document.createElement('div');\n",
              "          docLink.innerHTML = docLinkHtml;\n",
              "          element.appendChild(docLink);\n",
              "        }\n",
              "      </script>\n",
              "    </div>\n",
              "  </div>\n",
              "  "
            ]
          },
          "metadata": {},
          "execution_count": 68
        }
      ]
    },
    {
      "cell_type": "code",
      "source": [
        "data.info()"
      ],
      "metadata": {
        "colab": {
          "base_uri": "https://localhost:8080/"
        },
        "id": "KOd3VJZOWCmC",
        "outputId": "28917783-1921-46b4-8c15-a9f0553d183d"
      },
      "execution_count": 69,
      "outputs": [
        {
          "output_type": "stream",
          "name": "stdout",
          "text": [
            "<class 'pandas.core.frame.DataFrame'>\n",
            "RangeIndex: 2416 entries, 0 to 2415\n",
            "Data columns (total 7 columns):\n",
            " #   Column     Non-Null Count  Dtype  \n",
            "---  ------     --------------  -----  \n",
            " 0   Date       2416 non-null   object \n",
            " 1   Open       2416 non-null   float64\n",
            " 2   High       2416 non-null   float64\n",
            " 3   Low        2416 non-null   float64\n",
            " 4   Close      2416 non-null   float64\n",
            " 5   Adj Close  2416 non-null   float64\n",
            " 6   Volume     2416 non-null   int64  \n",
            "dtypes: float64(5), int64(1), object(1)\n",
            "memory usage: 132.2+ KB\n"
          ]
        }
      ]
    },
    {
      "cell_type": "code",
      "source": [
        "df1 = data.reset_index()['Close']"
      ],
      "metadata": {
        "id": "ZeOcdIJjWHiF"
      },
      "execution_count": 70,
      "outputs": []
    },
    {
      "cell_type": "code",
      "source": [
        "df1.shape"
      ],
      "metadata": {
        "colab": {
          "base_uri": "https://localhost:8080/"
        },
        "id": "cxWpLAW9Wqxj",
        "outputId": "7a3af36f-19dd-449d-e8f9-3ae2887c3575"
      },
      "execution_count": 71,
      "outputs": [
        {
          "output_type": "execute_result",
          "data": {
            "text/plain": [
              "(2416,)"
            ]
          },
          "metadata": {},
          "execution_count": 71
        }
      ]
    },
    {
      "cell_type": "code",
      "source": [
        "plt.plot(df1)"
      ],
      "metadata": {
        "colab": {
          "base_uri": "https://localhost:8080/",
          "height": 447
        },
        "id": "Q7m6TcBCYEDJ",
        "outputId": "540be7e0-1bb9-41ed-914e-ba8b65943b38"
      },
      "execution_count": 72,
      "outputs": [
        {
          "output_type": "execute_result",
          "data": {
            "text/plain": [
              "[<matplotlib.lines.Line2D at 0x7f7f1699aaf0>]"
            ]
          },
          "metadata": {},
          "execution_count": 72
        },
        {
          "output_type": "display_data",
          "data": {
            "text/plain": [
              "<Figure size 640x480 with 1 Axes>"
            ],
            "image/png": "[encoded data removed]"
          },
          "metadata": {}
        }
      ]
    },
    {
      "cell_type": "code",
      "source": [
        "scaler = MinMaxScaler(feature_range=(0,1))\n",
        "df1 = scaler.fit_transform(np.array(df1).reshape(-1,1))"
      ],
      "metadata": {
        "id": "2VR3dqA8YLoj"
      },
      "execution_count": 73,
      "outputs": []
    },
    {
      "cell_type": "code",
      "source": [
        "df1.shape"
      ],
      "metadata": {
        "colab": {
          "base_uri": "https://localhost:8080/"
        },
        "id": "UJzl4NbyYhdl",
        "outputId": "f3f99efb-97b9-418c-f95d-d39246dfff15"
      },
      "execution_count": 74,
      "outputs": [
        {
          "output_type": "execute_result",
          "data": {
            "text/plain": [
              "(2416, 1)"
            ]
          },
          "metadata": {},
          "execution_count": 74
        }
      ]
    },
    {
      "cell_type": "code",
      "source": [
        "training_size = int(len(df1)*0.65)\n",
        "test_size = len(df1)-training_size\n",
        "train_data,test_data=df1[0:training_size,:],df1[training_size:len(df1),:1]"
      ],
      "metadata": {
        "id": "jOPPR-rlYjcB"
      },
      "execution_count": 75,
      "outputs": []
    },
    {
      "cell_type": "code",
      "source": [
        "training_size,test_size"
      ],
      "metadata": {
        "colab": {
          "base_uri": "https://localhost:8080/"
        },
        "id": "dfdvYi5ZZMNu",
        "outputId": "55d5cb74-eb11-4afa-acdf-329339a211ae"
      },
      "execution_count": 76,
      "outputs": [
        {
          "output_type": "execute_result",
          "data": {
            "text/plain": [
              "(1570, 846)"
            ]
          },
          "metadata": {},
          "execution_count": 76
        }
      ]
    },
    {
      "cell_type": "code",
      "source": [
        "import numpy\n",
        "def create_dataset(dataset,time_step=1):\n",
        "    dataX,dataY =[],[]\n",
        "    for i in range(len(dataset)-time_step-1):\n",
        "        a = dataset[i:(i+time_step),0] #i=0,0,1,2,3,4----99  100\n",
        "        dataX.append(a)\n",
        "        dataY.append(dataset[i+time_step,0])\n",
        "    return numpy.array(dataX),numpy.array(dataY)\n"
      ],
      "metadata": {
        "id": "LFH5HMxYZhZ_"
      },
      "execution_count": 77,
      "outputs": []
    },
    {
      "cell_type": "code",
      "source": [
        "time_step=100\n",
        "X_train,y_train = create_dataset(train_data,time_step)\n",
        "X_test,y_test = create_dataset(test_data,time_step)"
      ],
      "metadata": {
        "id": "ieutCDCeagS1"
      },
      "execution_count": 78,
      "outputs": []
    },
    {
      "cell_type": "code",
      "source": [
        "print(X_train)"
      ],
      "metadata": {
        "colab": {
          "base_uri": "https://localhost:8080/"
        },
        "id": "blA5jsWwa15y",
        "outputId": "ef8096e3-da69-453d-815e-302dc1b95a58"
      },
      "execution_count": 79,
      "outputs": [
        {
          "output_type": "stream",
          "name": "stdout",
          "text": [
            "[[0.01058623 0.01050772 0.00806072 ... 0.01962837 0.0181497  0.01791416]\n",
            " [0.01050772 0.00806072 0.0044491  ... 0.0181497  0.01791416 0.01843758]\n",
            " [0.00806072 0.0044491  0.00040565 ... 0.01791416 0.01843758 0.019877  ]\n",
            " ...\n",
            " [0.31135829 0.30838786 0.30346769 ... 0.23586758 0.23633866 0.24158597]\n",
            " [0.30838786 0.30346769 0.29437319 ... 0.23633866 0.24158597 0.24810258]\n",
            " [0.30346769 0.29437319 0.2957341  ... 0.24158597 0.24810258 0.24933263]]\n"
          ]
        }
      ]
    },
    {
      "cell_type": "code",
      "source": [
        "print(X_test.shape),print(y_test.shape)"
      ],
      "metadata": {
        "colab": {
          "base_uri": "https://localhost:8080/"
        },
        "id": "BiLloZIgbGU0",
        "outputId": "50790b6a-081d-43a0-c37a-47623bf88e37"
      },
      "execution_count": 80,
      "outputs": [
        {
          "output_type": "stream",
          "name": "stdout",
          "text": [
            "(745, 100)\n",
            "(745,)\n"
          ]
        },
        {
          "output_type": "execute_result",
          "data": {
            "text/plain": [
              "(None, None)"
            ]
          },
          "metadata": {},
          "execution_count": 80
        }
      ]
    },
    {
      "cell_type": "code",
      "source": [
        "X_train = X_train.reshape(X_train.shape[0],X_train.shape[1],1)\n",
        "X_test = X_test.reshape(X_test.shape[0],X_test.shape[1],1)"
      ],
      "metadata": {
        "id": "pA9FTaIXbh6f"
      },
      "execution_count": 81,
      "outputs": []
    },
    {
      "cell_type": "code",
      "source": [
        "from tensorflow.keras.models import Sequential\n",
        "from tensorflow.keras.layers import Dense\n",
        "from tensorflow.keras.layers import LSTM"
      ],
      "metadata": {
        "id": "K1x9mS0Bb-KR"
      },
      "execution_count": 82,
      "outputs": []
    },
    {
      "cell_type": "code",
      "source": [
        "model = Sequential()\n",
        "model.add(LSTM(50,return_sequences=True,input_shape=(100,1)))\n",
        "model.add(LSTM(50,return_sequences=True))\n",
        "model.add(LSTM(50))\n",
        "model.add(Dense(1))\n",
        "model.compile(loss='mean_squared_error',optimizer='adam')"
      ],
      "metadata": {
        "id": "RJxgSGwOs8wH"
      },
      "execution_count": 83,
      "outputs": []
    },
    {
      "cell_type": "code",
      "source": [
        "model.summary()"
      ],
      "metadata": {
        "colab": {
          "base_uri": "https://localhost:8080/"
        },
        "id": "YHE1ka6IthbP",
        "outputId": "2c37b0e2-ce95-44c7-f807-98d027b3652a"
      },
      "execution_count": 84,
      "outputs": [
        {
          "output_type": "stream",
          "name": "stdout",
          "text": [
            "Model: \"sequential_2\"\n",
            "_________________________________________________________________\n",
            " Layer (type)                Output Shape              Param #   \n",
            "=================================================================\n",
            " lstm_6 (LSTM)               (None, 100, 50)           10400     \n",
            "                                                                 \n",
            " lstm_7 (LSTM)               (None, 100, 50)           20200     \n",
            "                                                                 \n",
            " lstm_8 (LSTM)               (None, 50)                20200     \n",
            "                                                                 \n",
            " dense_2 (Dense)             (None, 1)                 51        \n",
            "                                                                 \n",
            "=================================================================\n",
            "Total params: 50,851\n",
            "Trainable params: 50,851\n",
            "Non-trainable params: 0\n",
            "_________________________________________________________________\n"
          ]
        }
      ]
    },
    {
      "cell_type": "code",
      "source": [
        "X_train[:100]"
      ],
      "metadata": {
        "colab": {
          "base_uri": "https://localhost:8080/"
        },
        "id": "DXQtyB8auMeW",
        "outputId": "f8745351-41a7-4bee-c635-fcd953e9be86"
      },
      "execution_count": 85,
      "outputs": [
        {
          "output_type": "execute_result",
          "data": {
            "text/plain": [
              "array([[[0.01058623],\n",
              "        [0.01050772],\n",
              "        [0.00806072],\n",
              "        ...,\n",
              "        [0.01962837],\n",
              "        [0.0181497 ],\n",
              "        [0.01791416]],\n",
              "\n",
              "       [[0.01050772],\n",
              "        [0.00806072],\n",
              "        [0.0044491 ],\n",
              "        ...,\n",
              "        [0.0181497 ],\n",
              "        [0.01791416],\n",
              "        [0.01843758]],\n",
              "\n",
              "       [[0.00806072],\n",
              "        [0.0044491 ],\n",
              "        [0.00040565],\n",
              "        ...,\n",
              "        [0.01791416],\n",
              "        [0.01843758],\n",
              "        [0.019877  ]],\n",
              "\n",
              "       ...,\n",
              "\n",
              "       [[0.01962837],\n",
              "        [0.0181497 ],\n",
              "        [0.01791416],\n",
              "        ...,\n",
              "        [0.01426328],\n",
              "        [0.01398848],\n",
              "        [0.0149699 ]],\n",
              "\n",
              "       [[0.0181497 ],\n",
              "        [0.01791416],\n",
              "        [0.01843758],\n",
              "        ...,\n",
              "        [0.01398848],\n",
              "        [0.0149699 ],\n",
              "        [0.01398848]],\n",
              "\n",
              "       [[0.01791416],\n",
              "        [0.01843758],\n",
              "        [0.019877  ],\n",
              "        ...,\n",
              "        [0.0149699 ],\n",
              "        [0.01398848],\n",
              "        [0.01239204]]])"
            ]
          },
          "metadata": {},
          "execution_count": 85
        }
      ]
    },
    {
      "cell_type": "code",
      "source": [
        "model.fit(X_train,y_train,validation_data=(X_test,y_test),epochs=50,batch_size=64,verbose=1)"
      ],
      "metadata": {
        "colab": {
          "base_uri": "https://localhost:8080/"
        },
        "id": "Mfk5Ro-dtlZT",
        "outputId": "6d577420-a29c-4043-db7c-2d16d650eb87"
      },
      "execution_count": 87,
      "outputs": [
        {
          "output_type": "stream",
          "name": "stdout",
          "text": [
            "Epoch 1/50\n",
            "23/23 [==============================] - 7s 315ms/step - loss: 3.1852e-04 - val_loss: 0.0019\n",
            "Epoch 2/50\n",
            "23/23 [==============================] - 6s 240ms/step - loss: 2.9848e-04 - val_loss: 0.0019\n",
            "Epoch 3/50\n",
            "23/23 [==============================] - 7s 326ms/step - loss: 2.8543e-04 - val_loss: 0.0019\n",
            "Epoch 4/50\n",
            "23/23 [==============================] - 6s 247ms/step - loss: 2.7210e-04 - val_loss: 0.0017\n",
            "Epoch 5/50\n",
            "23/23 [==============================] - 7s 324ms/step - loss: 2.5618e-04 - val_loss: 0.0017\n",
            "Epoch 6/50\n",
            "23/23 [==============================] - 6s 247ms/step - loss: 2.4794e-04 - val_loss: 0.0014\n",
            "Epoch 7/50\n",
            "23/23 [==============================] - 7s 327ms/step - loss: 2.4485e-04 - val_loss: 0.0018\n",
            "Epoch 8/50\n",
            "23/23 [==============================] - 6s 248ms/step - loss: 2.2800e-04 - val_loss: 0.0017\n",
            "Epoch 9/50\n",
            "23/23 [==============================] - 7s 301ms/step - loss: 2.0968e-04 - val_loss: 0.0019\n",
            "Epoch 10/50\n",
            "23/23 [==============================] - 6s 248ms/step - loss: 2.1118e-04 - val_loss: 0.0018\n",
            "Epoch 11/50\n",
            "23/23 [==============================] - 7s 301ms/step - loss: 1.9881e-04 - val_loss: 0.0028\n",
            "Epoch 12/50\n",
            "23/23 [==============================] - 6s 246ms/step - loss: 1.9278e-04 - val_loss: 0.0025\n",
            "Epoch 13/50\n",
            "23/23 [==============================] - 7s 301ms/step - loss: 1.7616e-04 - val_loss: 0.0022\n",
            "Epoch 14/50\n",
            "23/23 [==============================] - 6s 248ms/step - loss: 1.7687e-04 - val_loss: 0.0018\n",
            "Epoch 15/50\n",
            "23/23 [==============================] - 7s 304ms/step - loss: 1.6860e-04 - val_loss: 0.0016\n",
            "Epoch 16/50\n",
            "23/23 [==============================] - 6s 243ms/step - loss: 1.6781e-04 - val_loss: 0.0019\n",
            "Epoch 17/50\n",
            "23/23 [==============================] - 7s 310ms/step - loss: 1.6513e-04 - val_loss: 0.0013\n",
            "Epoch 18/50\n",
            "23/23 [==============================] - 6s 267ms/step - loss: 1.6491e-04 - val_loss: 0.0013\n",
            "Epoch 19/50\n",
            "23/23 [==============================] - 7s 324ms/step - loss: 1.6333e-04 - val_loss: 0.0016\n",
            "Epoch 20/50\n",
            "23/23 [==============================] - 6s 267ms/step - loss: 1.5046e-04 - val_loss: 0.0015\n",
            "Epoch 21/50\n",
            "23/23 [==============================] - 7s 323ms/step - loss: 1.5344e-04 - val_loss: 0.0022\n",
            "Epoch 22/50\n",
            "23/23 [==============================] - 6s 245ms/step - loss: 1.5370e-04 - val_loss: 0.0014\n",
            "Epoch 23/50\n",
            "23/23 [==============================] - 7s 308ms/step - loss: 1.4411e-04 - val_loss: 0.0011\n",
            "Epoch 24/50\n",
            "23/23 [==============================] - 6s 245ms/step - loss: 1.4626e-04 - val_loss: 0.0015\n",
            "Epoch 25/50\n",
            "23/23 [==============================] - 7s 317ms/step - loss: 1.5644e-04 - val_loss: 0.0018\n",
            "Epoch 26/50\n",
            "23/23 [==============================] - 6s 269ms/step - loss: 1.6016e-04 - val_loss: 0.0015\n",
            "Epoch 27/50\n",
            "23/23 [==============================] - 7s 330ms/step - loss: 1.4541e-04 - val_loss: 0.0018\n",
            "Epoch 28/50\n",
            "23/23 [==============================] - 6s 254ms/step - loss: 1.4054e-04 - val_loss: 0.0015\n",
            "Epoch 29/50\n",
            "23/23 [==============================] - 7s 327ms/step - loss: 1.3477e-04 - val_loss: 0.0012\n",
            "Epoch 30/50\n",
            "23/23 [==============================] - 6s 246ms/step - loss: 1.3989e-04 - val_loss: 0.0014\n",
            "Epoch 31/50\n",
            "23/23 [==============================] - 7s 300ms/step - loss: 1.4665e-04 - val_loss: 8.4146e-04\n",
            "Epoch 32/50\n",
            "23/23 [==============================] - 6s 273ms/step - loss: 1.5345e-04 - val_loss: 0.0012\n",
            "Epoch 33/50\n",
            "23/23 [==============================] - 7s 324ms/step - loss: 1.4371e-04 - val_loss: 8.8533e-04\n",
            "Epoch 34/50\n",
            "23/23 [==============================] - 6s 245ms/step - loss: 1.3411e-04 - val_loss: 0.0011\n",
            "Epoch 35/50\n",
            "23/23 [==============================] - 7s 296ms/step - loss: 1.3141e-04 - val_loss: 0.0010\n",
            "Epoch 36/50\n",
            "23/23 [==============================] - 6s 242ms/step - loss: 1.2594e-04 - val_loss: 9.7929e-04\n",
            "Epoch 37/50\n",
            "23/23 [==============================] - 7s 318ms/step - loss: 1.2665e-04 - val_loss: 8.2440e-04\n",
            "Epoch 38/50\n",
            "23/23 [==============================] - 6s 246ms/step - loss: 1.3730e-04 - val_loss: 0.0013\n",
            "Epoch 39/50\n",
            "23/23 [==============================] - 7s 296ms/step - loss: 1.2435e-04 - val_loss: 6.2906e-04\n",
            "Epoch 40/50\n",
            "23/23 [==============================] - 6s 266ms/step - loss: 1.4391e-04 - val_loss: 9.0164e-04\n",
            "Epoch 41/50\n",
            "23/23 [==============================] - 7s 309ms/step - loss: 1.1535e-04 - val_loss: 8.0578e-04\n",
            "Epoch 42/50\n",
            "23/23 [==============================] - 6s 246ms/step - loss: 1.1911e-04 - val_loss: 9.6832e-04\n",
            "Epoch 43/50\n",
            "23/23 [==============================] - 7s 299ms/step - loss: 1.1647e-04 - val_loss: 9.5601e-04\n",
            "Epoch 44/50\n",
            "23/23 [==============================] - 6s 248ms/step - loss: 1.2974e-04 - val_loss: 5.8482e-04\n",
            "Epoch 45/50\n",
            "23/23 [==============================] - 6s 280ms/step - loss: 1.1619e-04 - val_loss: 7.4482e-04\n",
            "Epoch 46/50\n",
            "23/23 [==============================] - 6s 258ms/step - loss: 1.1256e-04 - val_loss: 0.0010\n",
            "Epoch 47/50\n",
            "23/23 [==============================] - 6s 271ms/step - loss: 1.2329e-04 - val_loss: 7.5555e-04\n",
            "Epoch 48/50\n",
            "23/23 [==============================] - 6s 270ms/step - loss: 1.1875e-04 - val_loss: 9.5638e-04\n",
            "Epoch 49/50\n",
            "23/23 [==============================] - 6s 266ms/step - loss: 1.1034e-04 - val_loss: 7.4102e-04\n",
            "Epoch 50/50\n",
            "23/23 [==============================] - 7s 296ms/step - loss: 1.0718e-04 - val_loss: 0.0011\n"
          ]
        },
        {
          "output_type": "execute_result",
          "data": {
            "text/plain": [
              "<keras.callbacks.History at 0x7f7f15957130>"
            ]
          },
          "metadata": {},
          "execution_count": 87
        }
      ]
    },
    {
      "cell_type": "code",
      "source": [
        "import tensorflow as tf"
      ],
      "metadata": {
        "id": "1de5MMeruBNO"
      },
      "execution_count": 88,
      "outputs": []
    },
    {
      "cell_type": "code",
      "source": [
        "tf.__version__"
      ],
      "metadata": {
        "colab": {
          "base_uri": "https://localhost:8080/",
          "height": 36
        },
        "id": "y4qwj94TyJRo",
        "outputId": "49170a1f-025b-4fec-a727-3b59e2c6a04d"
      },
      "execution_count": 89,
      "outputs": [
        {
          "output_type": "execute_result",
          "data": {
            "text/plain": [
              "'2.12.0'"
            ],
            "application/vnd.google.colaboratory.intrinsic+json": {
              "type": "string"
            }
          },
          "metadata": {},
          "execution_count": 89
        }
      ]
    },
    {
      "cell_type": "code",
      "source": [
        "# lETS DO THE prediction and check performance metrics\n",
        "train_predict=model.predict(X_train)\n",
        "test_predict = model.predict(X_test)"
      ],
      "metadata": {
        "colab": {
          "base_uri": "https://localhost:8080/"
        },
        "id": "u_E1SpFgyM3X",
        "outputId": "b93e17e2-b35f-4e48-d9b1-1d21cb38856d"
      },
      "execution_count": 90,
      "outputs": [
        {
          "output_type": "stream",
          "name": "stdout",
          "text": [
            "46/46 [==============================] - 4s 53ms/step\n",
            "24/24 [==============================] - 1s 46ms/step\n"
          ]
        }
      ]
    },
    {
      "cell_type": "code",
      "source": [
        "# Transformback to original form\n",
        "train_predict = scaler.inverse_transform(train_predict)\n",
        "test_predict = scaler.inverse_transform(test_predict)"
      ],
      "metadata": {
        "id": "2MZgEQxzyW8O"
      },
      "execution_count": 91,
      "outputs": []
    },
    {
      "cell_type": "code",
      "source": [
        "import math\n",
        "from sklearn.metrics import mean_squared_error\n",
        "math.sqrt(mean_squared_error(y_train,train_predict))"
      ],
      "metadata": {
        "colab": {
          "base_uri": "https://localhost:8080/"
        },
        "id": "B_yAEQO5yvE1",
        "outputId": "7a26066e-1b9c-435b-b552-efff49f19fcc"
      },
      "execution_count": 92,
      "outputs": [
        {
          "output_type": "execute_result",
          "data": {
            "text/plain": [
              "158.44941449261165"
            ]
          },
          "metadata": {},
          "execution_count": 92
        }
      ]
    },
    {
      "cell_type": "code",
      "source": [
        "math.sqrt(mean_squared_error(y_test,test_predict))"
      ],
      "metadata": {
        "colab": {
          "base_uri": "https://localhost:8080/"
        },
        "id": "rXdXiKLyzMZx",
        "outputId": "0f29bfa6-436b-4c19-b757-0c8d03e85f01"
      },
      "execution_count": 93,
      "outputs": [
        {
          "output_type": "execute_result",
          "data": {
            "text/plain": [
              "296.4037861359023"
            ]
          },
          "metadata": {},
          "execution_count": 93
        }
      ]
    },
    {
      "cell_type": "code",
      "source": [
        "#  plotting\n",
        "#  shift train prediction for plotting\n",
        "look_back = 100\n",
        "trainPredictPlot = numpy.empty_like(df1)\n",
        "trainPredictPlot[:,:]=np.nan\n",
        "trainPredictPlot[look_back:len(train_predict)+look_back,:]=train_predict\n",
        "testPredictPlot= numpy.empty_like(df1)\n",
        "testPredictPlot[:,:]=np.nan\n",
        "testPredictPlot[len(train_predict)+(look_back*2)+1:len(df1)-1,:]=test_predict\n",
        "plt.plot(scaler.inverse_transform(df1))\n",
        "plt.plot(trainPredictPlot)\n",
        "plt.plot(testPredictPlot)\n",
        "plt.show()"
      ],
      "metadata": {
        "colab": {
          "base_uri": "https://localhost:8080/",
          "height": 430
        },
        "id": "e7p89UpkzjQG",
        "outputId": "294a5a7b-3c9f-4322-87d2-ff01a2c36476"
      },
      "execution_count": 94,
      "outputs": [
        {
          "output_type": "display_data",
          "data": {
            "text/plain": [
              "<Figure size 640x480 with 1 Axes>"
            ],
            "image/png": "[encoded data removed]"
          },
          "metadata": {}
        }
      ]
    },
    {
      "cell_type": "code",
      "source": [
        "len(test_data)"
      ],
      "metadata": {
        "colab": {
          "base_uri": "https://localhost:8080/"
        },
        "id": "JNxKlNip1p71",
        "outputId": "e361f3a5-0f79-40f6-97d5-777d9123d1b2"
      },
      "execution_count": 95,
      "outputs": [
        {
          "output_type": "execute_result",
          "data": {
            "text/plain": [
              "846"
            ]
          },
          "metadata": {},
          "execution_count": 95
        }
      ]
    },
    {
      "cell_type": "code",
      "source": [
        "x_input = test_data[746:].reshape(1,-1)\n",
        "x_input.shape"
      ],
      "metadata": {
        "colab": {
          "base_uri": "https://localhost:8080/"
        },
        "id": "iFE4GU5C2M6X",
        "outputId": "4ecfbbae-40c9-459b-8120-02f79c4c615f"
      },
      "execution_count": 97,
      "outputs": [
        {
          "output_type": "execute_result",
          "data": {
            "text/plain": [
              "(1, 100)"
            ]
          },
          "metadata": {},
          "execution_count": 97
        }
      ]
    },
    {
      "cell_type": "code",
      "source": [
        "temp_input = list(x_input)\n",
        "temp_input = temp_input[0].tolist()"
      ],
      "metadata": {
        "id": "gUYbOdVC2blh"
      },
      "execution_count": 98,
      "outputs": []
    },
    {
      "cell_type": "code",
      "source": [
        "temp_input"
      ],
      "metadata": {
        "colab": {
          "base_uri": "https://localhost:8080/"
        },
        "id": "y5SX31ct4ow3",
        "outputId": "b764c82f-7b4e-45ab-8823-a6f229f657ba"
      },
      "execution_count": 99,
      "outputs": [
        {
          "output_type": "execute_result",
          "data": {
            "text/plain": [
              "[0.3026694661083486,\n",
              " 0.30105992541219573,\n",
              " 0.3001831941900026,\n",
              " 0.2970557419523685,\n",
              " 0.2996466801884323,\n",
              " 0.2979455705312745,\n",
              " 0.30201518712378955,\n",
              " 0.29418999607432605,\n",
              " 0.29498821774404604,\n",
              " 0.27140801753467675,\n",
              " 0.27859198769955507,\n",
              " 0.296728602460089,\n",
              " 0.296165931693274,\n",
              " 0.2945171355666056,\n",
              " 0.2995158361685422,\n",
              " 0.29747448966239204,\n",
              " 0.2842580463229521,\n",
              " 0.2821643457210154,\n",
              " 0.2903951858152316,\n",
              " 0.29344412850039253,\n",
              " 0.29930646296780944,\n",
              " 0.29958126799267204,\n",
              " 0.303703217744046,\n",
              " 0.31557182805548284,\n",
              " 0.3167888183721539,\n",
              " 0.3192227165663439,\n",
              " 0.3221277165663439,\n",
              " 0.315558769955509,\n",
              " 0.31104422925935615,\n",
              " 0.3137660324522376,\n",
              " 0.31258831850300967,\n",
              " 0.37147342711332115,\n",
              " 0.4087019170374247,\n",
              " 0.4081523043705836,\n",
              " 0.3931169863909971,\n",
              " 0.391533643025386,\n",
              " 0.39141587673383926,\n",
              " 0.3893090787751897,\n",
              " 0.39475268385239465,\n",
              " 0.3944255443601152,\n",
              " 0.40667362863124834,\n",
              " 0.41839833682282124,\n",
              " 0.4204920374247579,\n",
              " 0.43089504841664483,\n",
              " 0.43722846506150226,\n",
              " 0.4322297631510076,\n",
              " 0.43646951845066734,\n",
              " 0.440159661083486,\n",
              " 0.43730697461397533,\n",
              " 0.44977753075111226,\n",
              " 0.44022507327924626,\n",
              " 0.44364039125883276,\n",
              " 0.41512694190002614,\n",
              " 0.41944516618686206,\n",
              " 0.4097356883014917,\n",
              " 0.4128369654540696,\n",
              " 0.41107040303585446,\n",
              " 0.4175215846637006,\n",
              " 0.41926198900811307,\n",
              " 0.41511384323475525,\n",
              " 0.41163307380266945,\n",
              " 0.41885633996336036,\n",
              " 0.42361947003402245,\n",
              " 0.43580214080083746,\n",
              " 0.44085319549856056,\n",
              " 0.449986905260403,\n",
              " 0.4482988942685161,\n",
              " 0.47853964930646425,\n",
              " 0.47525515571839827,\n",
              " 0.4937843417953415,\n",
              " 0.5080345577074064,\n",
              " 0.5100628055482858,\n",
              " 0.5278984572101544,\n",
              " 0.5357890604553781,\n",
              " 0.5432347579167757,\n",
              " 0.5425019693797435,\n",
              " 0.5219837895838786,\n",
              " 0.5267338222978278,\n",
              " 0.5423449489662392,\n",
              " 0.5590290630724941,\n",
              " 0.5701910612405129,\n",
              " 0.5931169824653232,\n",
              " 0.6233185226380529,\n",
              " 0.6091860717089767,\n",
              " 0.6050117691703742,\n",
              " 0.6661345001308558,\n",
              " 0.6832242645904213,\n",
              " 0.6578120910756347,\n",
              " 0.6512562025647736,\n",
              " 0.6473436273226904,\n",
              " 0.6953677204920178,\n",
              " 0.7246270583616853,\n",
              " 0.7280816697199686,\n",
              " 0.7184245053650876,\n",
              " 0.7095263281863387,\n",
              " 0.7211463281863386,\n",
              " 0.7395838654802408,\n",
              " 0.817861813661345,\n",
              " 0.8306333512169589,\n",
              " 1.0]"
            ]
          },
          "metadata": {},
          "execution_count": 99
        }
      ]
    },
    {
      "cell_type": "code",
      "source": [
        "from numpy import array\n",
        "lst_output = []\n",
        "n_step =100\n",
        "i=0\n",
        "while(i<30):\n",
        "\n",
        "    if(len(temp_input)>100):\n",
        "      x_input = np.array(temp_input[1:])\n",
        "      print('{} day input {}'.format(i,x_input))\n",
        "      x_input = x_input.reshape(1,-1)\n",
        "      x_input = x_input.reshape((1,n_step,1))\n",
        "      yhat = model.predict(x_input,verbose=0)\n",
        "      print(\"{} day output {} \".format(i,yhat))\n",
        "      temp_input.extend(yhat[0].tolist())\n",
        "      temp_input = temp_input[1:]\n",
        "      lst_output.extend(yhat.tolist())\n",
        "      i=i+1\n",
        "    else:\n",
        "      x_input = x_input.reshape((1,n_step,1))\n",
        "      yhat = model.predict(x_input,verbose=0)\n",
        "      print(yhat[0])\n",
        "      temp_input.extend(yhat[0].tolist())\n",
        "      print(len(temp_input))\n",
        "      lst_output.extend(yhat.tolist())\n",
        "      i = i+1\n",
        "print(lst_output)"
      ],
      "metadata": {
        "colab": {
          "base_uri": "https://localhost:8080/"
        },
        "id": "dm6J7Z462oeH",
        "outputId": "67d1d817-ddd7-43df-cc13-3f2c95ea5a61"
      },
      "execution_count": 100,
      "outputs": [
        {
          "output_type": "stream",
          "name": "stdout",
          "text": [
            "[0.7266406]\n",
            "101\n",
            "1 day input [0.30105993 0.30018319 0.29705574 0.29964668 0.29794557 0.30201519\n",
            " 0.29419    0.29498822 0.27140802 0.27859199 0.2967286  0.29616593\n",
            " 0.29451714 0.29951584 0.29747449 0.28425805 0.28216435 0.29039519\n",
            " 0.29344413 0.29930646 0.29958127 0.30370322 0.31557183 0.31678882\n",
            " 0.31922272 0.32212772 0.31555877 0.31104423 0.31376603 0.31258832\n",
            " 0.37147343 0.40870192 0.4081523  0.39311699 0.39153364 0.39141588\n",
            " 0.38930908 0.39475268 0.39442554 0.40667363 0.41839834 0.42049204\n",
            " 0.43089505 0.43722847 0.43222976 0.43646952 0.44015966 0.43730697\n",
            " 0.44977753 0.44022507 0.44364039 0.41512694 0.41944517 0.40973569\n",
            " 0.41283697 0.4110704  0.41752158 0.41926199 0.41511384 0.41163307\n",
            " 0.41885634 0.42361947 0.43580214 0.4408532  0.44998691 0.44829889\n",
            " 0.47853965 0.47525516 0.49378434 0.50803456 0.51006281 0.52789846\n",
            " 0.53578906 0.54323476 0.54250197 0.52198379 0.52673382 0.54234495\n",
            " 0.55902906 0.57019106 0.59311698 0.62331852 0.60918607 0.60501177\n",
            " 0.6661345  0.68322426 0.65781209 0.6512562  0.64734363 0.69536772\n",
            " 0.72462706 0.72808167 0.71842451 0.70952633 0.72114633 0.73958387\n",
            " 0.81786181 0.83063335 1.         0.72664058]\n",
            "1 day output [[0.74618435]] \n",
            "2 day input [0.30018319 0.29705574 0.29964668 0.29794557 0.30201519 0.29419\n",
            " 0.29498822 0.27140802 0.27859199 0.2967286  0.29616593 0.29451714\n",
            " 0.29951584 0.29747449 0.28425805 0.28216435 0.29039519 0.29344413\n",
            " 0.29930646 0.29958127 0.30370322 0.31557183 0.31678882 0.31922272\n",
            " 0.32212772 0.31555877 0.31104423 0.31376603 0.31258832 0.37147343\n",
            " 0.40870192 0.4081523  0.39311699 0.39153364 0.39141588 0.38930908\n",
            " 0.39475268 0.39442554 0.40667363 0.41839834 0.42049204 0.43089505\n",
            " 0.43722847 0.43222976 0.43646952 0.44015966 0.43730697 0.44977753\n",
            " 0.44022507 0.44364039 0.41512694 0.41944517 0.40973569 0.41283697\n",
            " 0.4110704  0.41752158 0.41926199 0.41511384 0.41163307 0.41885634\n",
            " 0.42361947 0.43580214 0.4408532  0.44998691 0.44829889 0.47853965\n",
            " 0.47525516 0.49378434 0.50803456 0.51006281 0.52789846 0.53578906\n",
            " 0.54323476 0.54250197 0.52198379 0.52673382 0.54234495 0.55902906\n",
            " 0.57019106 0.59311698 0.62331852 0.60918607 0.60501177 0.6661345\n",
            " 0.68322426 0.65781209 0.6512562  0.64734363 0.69536772 0.72462706\n",
            " 0.72808167 0.71842451 0.70952633 0.72114633 0.73958387 0.81786181\n",
            " 0.83063335 1.         0.72664058 0.74618435]\n",
            "2 day output [[0.74465024]] \n",
            "3 day input [0.29705574 0.29964668 0.29794557 0.30201519 0.29419    0.29498822\n",
            " 0.27140802 0.27859199 0.2967286  0.29616593 0.29451714 0.29951584\n",
            " 0.29747449 0.28425805 0.28216435 0.29039519 0.29344413 0.29930646\n",
            " 0.29958127 0.30370322 0.31557183 0.31678882 0.31922272 0.32212772\n",
            " 0.31555877 0.31104423 0.31376603 0.31258832 0.37147343 0.40870192\n",
            " 0.4081523  0.39311699 0.39153364 0.39141588 0.38930908 0.39475268\n",
            " 0.39442554 0.40667363 0.41839834 0.42049204 0.43089505 0.43722847\n",
            " 0.43222976 0.43646952 0.44015966 0.43730697 0.44977753 0.44022507\n",
            " 0.44364039 0.41512694 0.41944517 0.40973569 0.41283697 0.4110704\n",
            " 0.41752158 0.41926199 0.41511384 0.41163307 0.41885634 0.42361947\n",
            " 0.43580214 0.4408532  0.44998691 0.44829889 0.47853965 0.47525516\n",
            " 0.49378434 0.50803456 0.51006281 0.52789846 0.53578906 0.54323476\n",
            " 0.54250197 0.52198379 0.52673382 0.54234495 0.55902906 0.57019106\n",
            " 0.59311698 0.62331852 0.60918607 0.60501177 0.6661345  0.68322426\n",
            " 0.65781209 0.6512562  0.64734363 0.69536772 0.72462706 0.72808167\n",
            " 0.71842451 0.70952633 0.72114633 0.73958387 0.81786181 0.83063335\n",
            " 1.         0.72664058 0.74618435 0.74465024]\n",
            "3 day output [[0.72899985]] \n",
            "4 day input [0.29964668 0.29794557 0.30201519 0.29419    0.29498822 0.27140802\n",
            " 0.27859199 0.2967286  0.29616593 0.29451714 0.29951584 0.29747449\n",
            " 0.28425805 0.28216435 0.29039519 0.29344413 0.29930646 0.29958127\n",
            " 0.30370322 0.31557183 0.31678882 0.31922272 0.32212772 0.31555877\n",
            " 0.31104423 0.31376603 0.31258832 0.37147343 0.40870192 0.4081523\n",
            " 0.39311699 0.39153364 0.39141588 0.38930908 0.39475268 0.39442554\n",
            " 0.40667363 0.41839834 0.42049204 0.43089505 0.43722847 0.43222976\n",
            " 0.43646952 0.44015966 0.43730697 0.44977753 0.44022507 0.44364039\n",
            " 0.41512694 0.41944517 0.40973569 0.41283697 0.4110704  0.41752158\n",
            " 0.41926199 0.41511384 0.41163307 0.41885634 0.42361947 0.43580214\n",
            " 0.4408532  0.44998691 0.44829889 0.47853965 0.47525516 0.49378434\n",
            " 0.50803456 0.51006281 0.52789846 0.53578906 0.54323476 0.54250197\n",
            " 0.52198379 0.52673382 0.54234495 0.55902906 0.57019106 0.59311698\n",
            " 0.62331852 0.60918607 0.60501177 0.6661345  0.68322426 0.65781209\n",
            " 0.6512562  0.64734363 0.69536772 0.72462706 0.72808167 0.71842451\n",
            " 0.70952633 0.72114633 0.73958387 0.81786181 0.83063335 1.\n",
            " 0.72664058 0.74618435 0.74465024 0.72899985]\n",
            "4 day output [[0.7055295]] \n",
            "5 day input [0.29794557 0.30201519 0.29419    0.29498822 0.27140802 0.27859199\n",
            " 0.2967286  0.29616593 0.29451714 0.29951584 0.29747449 0.28425805\n",
            " 0.28216435 0.29039519 0.29344413 0.29930646 0.29958127 0.30370322\n",
            " 0.31557183 0.31678882 0.31922272 0.32212772 0.31555877 0.31104423\n",
            " 0.31376603 0.31258832 0.37147343 0.40870192 0.4081523  0.39311699\n",
            " 0.39153364 0.39141588 0.38930908 0.39475268 0.39442554 0.40667363\n",
            " 0.41839834 0.42049204 0.43089505 0.43722847 0.43222976 0.43646952\n",
            " 0.44015966 0.43730697 0.44977753 0.44022507 0.44364039 0.41512694\n",
            " 0.41944517 0.40973569 0.41283697 0.4110704  0.41752158 0.41926199\n",
            " 0.41511384 0.41163307 0.41885634 0.42361947 0.43580214 0.4408532\n",
            " 0.44998691 0.44829889 0.47853965 0.47525516 0.49378434 0.50803456\n",
            " 0.51006281 0.52789846 0.53578906 0.54323476 0.54250197 0.52198379\n",
            " 0.52673382 0.54234495 0.55902906 0.57019106 0.59311698 0.62331852\n",
            " 0.60918607 0.60501177 0.6661345  0.68322426 0.65781209 0.6512562\n",
            " 0.64734363 0.69536772 0.72462706 0.72808167 0.71842451 0.70952633\n",
            " 0.72114633 0.73958387 0.81786181 0.83063335 1.         0.72664058\n",
            " 0.74618435 0.74465024 0.72899985 0.70552951]\n",
            "5 day output [[0.67843133]] \n",
            "6 day input [0.30201519 0.29419    0.29498822 0.27140802 0.27859199 0.2967286\n",
            " 0.29616593 0.29451714 0.29951584 0.29747449 0.28425805 0.28216435\n",
            " 0.29039519 0.29344413 0.29930646 0.29958127 0.30370322 0.31557183\n",
            " 0.31678882 0.31922272 0.32212772 0.31555877 0.31104423 0.31376603\n",
            " 0.31258832 0.37147343 0.40870192 0.4081523  0.39311699 0.39153364\n",
            " 0.39141588 0.38930908 0.39475268 0.39442554 0.40667363 0.41839834\n",
            " 0.42049204 0.43089505 0.43722847 0.43222976 0.43646952 0.44015966\n",
            " 0.43730697 0.44977753 0.44022507 0.44364039 0.41512694 0.41944517\n",
            " 0.40973569 0.41283697 0.4110704  0.41752158 0.41926199 0.41511384\n",
            " 0.41163307 0.41885634 0.42361947 0.43580214 0.4408532  0.44998691\n",
            " 0.44829889 0.47853965 0.47525516 0.49378434 0.50803456 0.51006281\n",
            " 0.52789846 0.53578906 0.54323476 0.54250197 0.52198379 0.52673382\n",
            " 0.54234495 0.55902906 0.57019106 0.59311698 0.62331852 0.60918607\n",
            " 0.60501177 0.6661345  0.68322426 0.65781209 0.6512562  0.64734363\n",
            " 0.69536772 0.72462706 0.72808167 0.71842451 0.70952633 0.72114633\n",
            " 0.73958387 0.81786181 0.83063335 1.         0.72664058 0.74618435\n",
            " 0.74465024 0.72899985 0.70552951 0.67843133]\n",
            "6 day output [[0.6500804]] \n",
            "7 day input [0.29419    0.29498822 0.27140802 0.27859199 0.2967286  0.29616593\n",
            " 0.29451714 0.29951584 0.29747449 0.28425805 0.28216435 0.29039519\n",
            " 0.29344413 0.29930646 0.29958127 0.30370322 0.31557183 0.31678882\n",
            " 0.31922272 0.32212772 0.31555877 0.31104423 0.31376603 0.31258832\n",
            " 0.37147343 0.40870192 0.4081523  0.39311699 0.39153364 0.39141588\n",
            " 0.38930908 0.39475268 0.39442554 0.40667363 0.41839834 0.42049204\n",
            " 0.43089505 0.43722847 0.43222976 0.43646952 0.44015966 0.43730697\n",
            " 0.44977753 0.44022507 0.44364039 0.41512694 0.41944517 0.40973569\n",
            " 0.41283697 0.4110704  0.41752158 0.41926199 0.41511384 0.41163307\n",
            " 0.41885634 0.42361947 0.43580214 0.4408532  0.44998691 0.44829889\n",
            " 0.47853965 0.47525516 0.49378434 0.50803456 0.51006281 0.52789846\n",
            " 0.53578906 0.54323476 0.54250197 0.52198379 0.52673382 0.54234495\n",
            " 0.55902906 0.57019106 0.59311698 0.62331852 0.60918607 0.60501177\n",
            " 0.6661345  0.68322426 0.65781209 0.6512562  0.64734363 0.69536772\n",
            " 0.72462706 0.72808167 0.71842451 0.70952633 0.72114633 0.73958387\n",
            " 0.81786181 0.83063335 1.         0.72664058 0.74618435 0.74465024\n",
            " 0.72899985 0.70552951 0.67843133 0.65008038]\n",
            "7 day output [[0.62168777]] \n",
            "8 day input [0.29498822 0.27140802 0.27859199 0.2967286  0.29616593 0.29451714\n",
            " 0.29951584 0.29747449 0.28425805 0.28216435 0.29039519 0.29344413\n",
            " 0.29930646 0.29958127 0.30370322 0.31557183 0.31678882 0.31922272\n",
            " 0.32212772 0.31555877 0.31104423 0.31376603 0.31258832 0.37147343\n",
            " 0.40870192 0.4081523  0.39311699 0.39153364 0.39141588 0.38930908\n",
            " 0.39475268 0.39442554 0.40667363 0.41839834 0.42049204 0.43089505\n",
            " 0.43722847 0.43222976 0.43646952 0.44015966 0.43730697 0.44977753\n",
            " 0.44022507 0.44364039 0.41512694 0.41944517 0.40973569 0.41283697\n",
            " 0.4110704  0.41752158 0.41926199 0.41511384 0.41163307 0.41885634\n",
            " 0.42361947 0.43580214 0.4408532  0.44998691 0.44829889 0.47853965\n",
            " 0.47525516 0.49378434 0.50803456 0.51006281 0.52789846 0.53578906\n",
            " 0.54323476 0.54250197 0.52198379 0.52673382 0.54234495 0.55902906\n",
            " 0.57019106 0.59311698 0.62331852 0.60918607 0.60501177 0.6661345\n",
            " 0.68322426 0.65781209 0.6512562  0.64734363 0.69536772 0.72462706\n",
            " 0.72808167 0.71842451 0.70952633 0.72114633 0.73958387 0.81786181\n",
            " 0.83063335 1.         0.72664058 0.74618435 0.74465024 0.72899985\n",
            " 0.70552951 0.67843133 0.65008038 0.62168777]\n",
            "8 day output [[0.5938335]] \n",
            "9 day input [0.27140802 0.27859199 0.2967286  0.29616593 0.29451714 0.29951584\n",
            " 0.29747449 0.28425805 0.28216435 0.29039519 0.29344413 0.29930646\n",
            " 0.29958127 0.30370322 0.31557183 0.31678882 0.31922272 0.32212772\n",
            " 0.31555877 0.31104423 0.31376603 0.31258832 0.37147343 0.40870192\n",
            " 0.4081523  0.39311699 0.39153364 0.39141588 0.38930908 0.39475268\n",
            " 0.39442554 0.40667363 0.41839834 0.42049204 0.43089505 0.43722847\n",
            " 0.43222976 0.43646952 0.44015966 0.43730697 0.44977753 0.44022507\n",
            " 0.44364039 0.41512694 0.41944517 0.40973569 0.41283697 0.4110704\n",
            " 0.41752158 0.41926199 0.41511384 0.41163307 0.41885634 0.42361947\n",
            " 0.43580214 0.4408532  0.44998691 0.44829889 0.47853965 0.47525516\n",
            " 0.49378434 0.50803456 0.51006281 0.52789846 0.53578906 0.54323476\n",
            " 0.54250197 0.52198379 0.52673382 0.54234495 0.55902906 0.57019106\n",
            " 0.59311698 0.62331852 0.60918607 0.60501177 0.6661345  0.68322426\n",
            " 0.65781209 0.6512562  0.64734363 0.69536772 0.72462706 0.72808167\n",
            " 0.71842451 0.70952633 0.72114633 0.73958387 0.81786181 0.83063335\n",
            " 1.         0.72664058 0.74618435 0.74465024 0.72899985 0.70552951\n",
            " 0.67843133 0.65008038 0.62168777 0.59383351]\n",
            "9 day output [[0.56678873]] \n",
            "10 day input [0.27859199 0.2967286  0.29616593 0.29451714 0.29951584 0.29747449\n",
            " 0.28425805 0.28216435 0.29039519 0.29344413 0.29930646 0.29958127\n",
            " 0.30370322 0.31557183 0.31678882 0.31922272 0.32212772 0.31555877\n",
            " 0.31104423 0.31376603 0.31258832 0.37147343 0.40870192 0.4081523\n",
            " 0.39311699 0.39153364 0.39141588 0.38930908 0.39475268 0.39442554\n",
            " 0.40667363 0.41839834 0.42049204 0.43089505 0.43722847 0.43222976\n",
            " 0.43646952 0.44015966 0.43730697 0.44977753 0.44022507 0.44364039\n",
            " 0.41512694 0.41944517 0.40973569 0.41283697 0.4110704  0.41752158\n",
            " 0.41926199 0.41511384 0.41163307 0.41885634 0.42361947 0.43580214\n",
            " 0.4408532  0.44998691 0.44829889 0.47853965 0.47525516 0.49378434\n",
            " 0.50803456 0.51006281 0.52789846 0.53578906 0.54323476 0.54250197\n",
            " 0.52198379 0.52673382 0.54234495 0.55902906 0.57019106 0.59311698\n",
            " 0.62331852 0.60918607 0.60501177 0.6661345  0.68322426 0.65781209\n",
            " 0.6512562  0.64734363 0.69536772 0.72462706 0.72808167 0.71842451\n",
            " 0.70952633 0.72114633 0.73958387 0.81786181 0.83063335 1.\n",
            " 0.72664058 0.74618435 0.74465024 0.72899985 0.70552951 0.67843133\n",
            " 0.65008038 0.62168777 0.59383351 0.56678873]\n",
            "10 day output [[0.54067844]] \n",
            "11 day input [0.2967286  0.29616593 0.29451714 0.29951584 0.29747449 0.28425805\n",
            " 0.28216435 0.29039519 0.29344413 0.29930646 0.29958127 0.30370322\n",
            " 0.31557183 0.31678882 0.31922272 0.32212772 0.31555877 0.31104423\n",
            " 0.31376603 0.31258832 0.37147343 0.40870192 0.4081523  0.39311699\n",
            " 0.39153364 0.39141588 0.38930908 0.39475268 0.39442554 0.40667363\n",
            " 0.41839834 0.42049204 0.43089505 0.43722847 0.43222976 0.43646952\n",
            " 0.44015966 0.43730697 0.44977753 0.44022507 0.44364039 0.41512694\n",
            " 0.41944517 0.40973569 0.41283697 0.4110704  0.41752158 0.41926199\n",
            " 0.41511384 0.41163307 0.41885634 0.42361947 0.43580214 0.4408532\n",
            " 0.44998691 0.44829889 0.47853965 0.47525516 0.49378434 0.50803456\n",
            " 0.51006281 0.52789846 0.53578906 0.54323476 0.54250197 0.52198379\n",
            " 0.52673382 0.54234495 0.55902906 0.57019106 0.59311698 0.62331852\n",
            " 0.60918607 0.60501177 0.6661345  0.68322426 0.65781209 0.6512562\n",
            " 0.64734363 0.69536772 0.72462706 0.72808167 0.71842451 0.70952633\n",
            " 0.72114633 0.73958387 0.81786181 0.83063335 1.         0.72664058\n",
            " 0.74618435 0.74465024 0.72899985 0.70552951 0.67843133 0.65008038\n",
            " 0.62168777 0.59383351 0.56678873 0.54067844]\n",
            "11 day output [[0.51555353]] \n",
            "12 day input [0.29616593 0.29451714 0.29951584 0.29747449 0.28425805 0.28216435\n",
            " 0.29039519 0.29344413 0.29930646 0.29958127 0.30370322 0.31557183\n",
            " 0.31678882 0.31922272 0.32212772 0.31555877 0.31104423 0.31376603\n",
            " 0.31258832 0.37147343 0.40870192 0.4081523  0.39311699 0.39153364\n",
            " 0.39141588 0.38930908 0.39475268 0.39442554 0.40667363 0.41839834\n",
            " 0.42049204 0.43089505 0.43722847 0.43222976 0.43646952 0.44015966\n",
            " 0.43730697 0.44977753 0.44022507 0.44364039 0.41512694 0.41944517\n",
            " 0.40973569 0.41283697 0.4110704  0.41752158 0.41926199 0.41511384\n",
            " 0.41163307 0.41885634 0.42361947 0.43580214 0.4408532  0.44998691\n",
            " 0.44829889 0.47853965 0.47525516 0.49378434 0.50803456 0.51006281\n",
            " 0.52789846 0.53578906 0.54323476 0.54250197 0.52198379 0.52673382\n",
            " 0.54234495 0.55902906 0.57019106 0.59311698 0.62331852 0.60918607\n",
            " 0.60501177 0.6661345  0.68322426 0.65781209 0.6512562  0.64734363\n",
            " 0.69536772 0.72462706 0.72808167 0.71842451 0.70952633 0.72114633\n",
            " 0.73958387 0.81786181 0.83063335 1.         0.72664058 0.74618435\n",
            " 0.74465024 0.72899985 0.70552951 0.67843133 0.65008038 0.62168777\n",
            " 0.59383351 0.56678873 0.54067844 0.51555353]\n",
            "12 day output [[0.4914237]] \n",
            "13 day input [0.29451714 0.29951584 0.29747449 0.28425805 0.28216435 0.29039519\n",
            " 0.29344413 0.29930646 0.29958127 0.30370322 0.31557183 0.31678882\n",
            " 0.31922272 0.32212772 0.31555877 0.31104423 0.31376603 0.31258832\n",
            " 0.37147343 0.40870192 0.4081523  0.39311699 0.39153364 0.39141588\n",
            " 0.38930908 0.39475268 0.39442554 0.40667363 0.41839834 0.42049204\n",
            " 0.43089505 0.43722847 0.43222976 0.43646952 0.44015966 0.43730697\n",
            " 0.44977753 0.44022507 0.44364039 0.41512694 0.41944517 0.40973569\n",
            " 0.41283697 0.4110704  0.41752158 0.41926199 0.41511384 0.41163307\n",
            " 0.41885634 0.42361947 0.43580214 0.4408532  0.44998691 0.44829889\n",
            " 0.47853965 0.47525516 0.49378434 0.50803456 0.51006281 0.52789846\n",
            " 0.53578906 0.54323476 0.54250197 0.52198379 0.52673382 0.54234495\n",
            " 0.55902906 0.57019106 0.59311698 0.62331852 0.60918607 0.60501177\n",
            " 0.6661345  0.68322426 0.65781209 0.6512562  0.64734363 0.69536772\n",
            " 0.72462706 0.72808167 0.71842451 0.70952633 0.72114633 0.73958387\n",
            " 0.81786181 0.83063335 1.         0.72664058 0.74618435 0.74465024\n",
            " 0.72899985 0.70552951 0.67843133 0.65008038 0.62168777 0.59383351\n",
            " 0.56678873 0.54067844 0.51555353 0.4914237 ]\n",
            "13 day output [[0.46827593]] \n",
            "14 day input [0.29951584 0.29747449 0.28425805 0.28216435 0.29039519 0.29344413\n",
            " 0.29930646 0.29958127 0.30370322 0.31557183 0.31678882 0.31922272\n",
            " 0.32212772 0.31555877 0.31104423 0.31376603 0.31258832 0.37147343\n",
            " 0.40870192 0.4081523  0.39311699 0.39153364 0.39141588 0.38930908\n",
            " 0.39475268 0.39442554 0.40667363 0.41839834 0.42049204 0.43089505\n",
            " 0.43722847 0.43222976 0.43646952 0.44015966 0.43730697 0.44977753\n",
            " 0.44022507 0.44364039 0.41512694 0.41944517 0.40973569 0.41283697\n",
            " 0.4110704  0.41752158 0.41926199 0.41511384 0.41163307 0.41885634\n",
            " 0.42361947 0.43580214 0.4408532  0.44998691 0.44829889 0.47853965\n",
            " 0.47525516 0.49378434 0.50803456 0.51006281 0.52789846 0.53578906\n",
            " 0.54323476 0.54250197 0.52198379 0.52673382 0.54234495 0.55902906\n",
            " 0.57019106 0.59311698 0.62331852 0.60918607 0.60501177 0.6661345\n",
            " 0.68322426 0.65781209 0.6512562  0.64734363 0.69536772 0.72462706\n",
            " 0.72808167 0.71842451 0.70952633 0.72114633 0.73958387 0.81786181\n",
            " 0.83063335 1.         0.72664058 0.74618435 0.74465024 0.72899985\n",
            " 0.70552951 0.67843133 0.65008038 0.62168777 0.59383351 0.56678873\n",
            " 0.54067844 0.51555353 0.4914237  0.46827593]\n",
            "14 day output [[0.4460915]] \n",
            "15 day input [0.29747449 0.28425805 0.28216435 0.29039519 0.29344413 0.29930646\n",
            " 0.29958127 0.30370322 0.31557183 0.31678882 0.31922272 0.32212772\n",
            " 0.31555877 0.31104423 0.31376603 0.31258832 0.37147343 0.40870192\n",
            " 0.4081523  0.39311699 0.39153364 0.39141588 0.38930908 0.39475268\n",
            " 0.39442554 0.40667363 0.41839834 0.42049204 0.43089505 0.43722847\n",
            " 0.43222976 0.43646952 0.44015966 0.43730697 0.44977753 0.44022507\n",
            " 0.44364039 0.41512694 0.41944517 0.40973569 0.41283697 0.4110704\n",
            " 0.41752158 0.41926199 0.41511384 0.41163307 0.41885634 0.42361947\n",
            " 0.43580214 0.4408532  0.44998691 0.44829889 0.47853965 0.47525516\n",
            " 0.49378434 0.50803456 0.51006281 0.52789846 0.53578906 0.54323476\n",
            " 0.54250197 0.52198379 0.52673382 0.54234495 0.55902906 0.57019106\n",
            " 0.59311698 0.62331852 0.60918607 0.60501177 0.6661345  0.68322426\n",
            " 0.65781209 0.6512562  0.64734363 0.69536772 0.72462706 0.72808167\n",
            " 0.71842451 0.70952633 0.72114633 0.73958387 0.81786181 0.83063335\n",
            " 1.         0.72664058 0.74618435 0.74465024 0.72899985 0.70552951\n",
            " 0.67843133 0.65008038 0.62168777 0.59383351 0.56678873 0.54067844\n",
            " 0.51555353 0.4914237  0.46827593 0.4460915 ]\n",
            "15 day output [[0.42486197]] \n",
            "16 day input [0.28425805 0.28216435 0.29039519 0.29344413 0.29930646 0.29958127\n",
            " 0.30370322 0.31557183 0.31678882 0.31922272 0.32212772 0.31555877\n",
            " 0.31104423 0.31376603 0.31258832 0.37147343 0.40870192 0.4081523\n",
            " 0.39311699 0.39153364 0.39141588 0.38930908 0.39475268 0.39442554\n",
            " 0.40667363 0.41839834 0.42049204 0.43089505 0.43722847 0.43222976\n",
            " 0.43646952 0.44015966 0.43730697 0.44977753 0.44022507 0.44364039\n",
            " 0.41512694 0.41944517 0.40973569 0.41283697 0.4110704  0.41752158\n",
            " 0.41926199 0.41511384 0.41163307 0.41885634 0.42361947 0.43580214\n",
            " 0.4408532  0.44998691 0.44829889 0.47853965 0.47525516 0.49378434\n",
            " 0.50803456 0.51006281 0.52789846 0.53578906 0.54323476 0.54250197\n",
            " 0.52198379 0.52673382 0.54234495 0.55902906 0.57019106 0.59311698\n",
            " 0.62331852 0.60918607 0.60501177 0.6661345  0.68322426 0.65781209\n",
            " 0.6512562  0.64734363 0.69536772 0.72462706 0.72808167 0.71842451\n",
            " 0.70952633 0.72114633 0.73958387 0.81786181 0.83063335 1.\n",
            " 0.72664058 0.74618435 0.74465024 0.72899985 0.70552951 0.67843133\n",
            " 0.65008038 0.62168777 0.59383351 0.56678873 0.54067844 0.51555353\n",
            " 0.4914237  0.46827593 0.4460915  0.42486197]\n",
            "16 day output [[0.40460205]] \n",
            "17 day input [0.28216435 0.29039519 0.29344413 0.29930646 0.29958127 0.30370322\n",
            " 0.31557183 0.31678882 0.31922272 0.32212772 0.31555877 0.31104423\n",
            " 0.31376603 0.31258832 0.37147343 0.40870192 0.4081523  0.39311699\n",
            " 0.39153364 0.39141588 0.38930908 0.39475268 0.39442554 0.40667363\n",
            " 0.41839834 0.42049204 0.43089505 0.43722847 0.43222976 0.43646952\n",
            " 0.44015966 0.43730697 0.44977753 0.44022507 0.44364039 0.41512694\n",
            " 0.41944517 0.40973569 0.41283697 0.4110704  0.41752158 0.41926199\n",
            " 0.41511384 0.41163307 0.41885634 0.42361947 0.43580214 0.4408532\n",
            " 0.44998691 0.44829889 0.47853965 0.47525516 0.49378434 0.50803456\n",
            " 0.51006281 0.52789846 0.53578906 0.54323476 0.54250197 0.52198379\n",
            " 0.52673382 0.54234495 0.55902906 0.57019106 0.59311698 0.62331852\n",
            " 0.60918607 0.60501177 0.6661345  0.68322426 0.65781209 0.6512562\n",
            " 0.64734363 0.69536772 0.72462706 0.72808167 0.71842451 0.70952633\n",
            " 0.72114633 0.73958387 0.81786181 0.83063335 1.         0.72664058\n",
            " 0.74618435 0.74465024 0.72899985 0.70552951 0.67843133 0.65008038\n",
            " 0.62168777 0.59383351 0.56678873 0.54067844 0.51555353 0.4914237\n",
            " 0.46827593 0.4460915  0.42486197 0.40460205]\n",
            "17 day output [[0.38535517]] \n",
            "18 day input [0.29039519 0.29344413 0.29930646 0.29958127 0.30370322 0.31557183\n",
            " 0.31678882 0.31922272 0.32212772 0.31555877 0.31104423 0.31376603\n",
            " 0.31258832 0.37147343 0.40870192 0.4081523  0.39311699 0.39153364\n",
            " 0.39141588 0.38930908 0.39475268 0.39442554 0.40667363 0.41839834\n",
            " 0.42049204 0.43089505 0.43722847 0.43222976 0.43646952 0.44015966\n",
            " 0.43730697 0.44977753 0.44022507 0.44364039 0.41512694 0.41944517\n",
            " 0.40973569 0.41283697 0.4110704  0.41752158 0.41926199 0.41511384\n",
            " 0.41163307 0.41885634 0.42361947 0.43580214 0.4408532  0.44998691\n",
            " 0.44829889 0.47853965 0.47525516 0.49378434 0.50803456 0.51006281\n",
            " 0.52789846 0.53578906 0.54323476 0.54250197 0.52198379 0.52673382\n",
            " 0.54234495 0.55902906 0.57019106 0.59311698 0.62331852 0.60918607\n",
            " 0.60501177 0.6661345  0.68322426 0.65781209 0.6512562  0.64734363\n",
            " 0.69536772 0.72462706 0.72808167 0.71842451 0.70952633 0.72114633\n",
            " 0.73958387 0.81786181 0.83063335 1.         0.72664058 0.74618435\n",
            " 0.74465024 0.72899985 0.70552951 0.67843133 0.65008038 0.62168777\n",
            " 0.59383351 0.56678873 0.54067844 0.51555353 0.4914237  0.46827593\n",
            " 0.4460915  0.42486197 0.40460205 0.38535517]\n",
            "18 day output [[0.36719307]] \n",
            "19 day input [0.29344413 0.29930646 0.29958127 0.30370322 0.31557183 0.31678882\n",
            " 0.31922272 0.32212772 0.31555877 0.31104423 0.31376603 0.31258832\n",
            " 0.37147343 0.40870192 0.4081523  0.39311699 0.39153364 0.39141588\n",
            " 0.38930908 0.39475268 0.39442554 0.40667363 0.41839834 0.42049204\n",
            " 0.43089505 0.43722847 0.43222976 0.43646952 0.44015966 0.43730697\n",
            " 0.44977753 0.44022507 0.44364039 0.41512694 0.41944517 0.40973569\n",
            " 0.41283697 0.4110704  0.41752158 0.41926199 0.41511384 0.41163307\n",
            " 0.41885634 0.42361947 0.43580214 0.4408532  0.44998691 0.44829889\n",
            " 0.47853965 0.47525516 0.49378434 0.50803456 0.51006281 0.52789846\n",
            " 0.53578906 0.54323476 0.54250197 0.52198379 0.52673382 0.54234495\n",
            " 0.55902906 0.57019106 0.59311698 0.62331852 0.60918607 0.60501177\n",
            " 0.6661345  0.68322426 0.65781209 0.6512562  0.64734363 0.69536772\n",
            " 0.72462706 0.72808167 0.71842451 0.70952633 0.72114633 0.73958387\n",
            " 0.81786181 0.83063335 1.         0.72664058 0.74618435 0.74465024\n",
            " 0.72899985 0.70552951 0.67843133 0.65008038 0.62168777 0.59383351\n",
            " 0.56678873 0.54067844 0.51555353 0.4914237  0.46827593 0.4460915\n",
            " 0.42486197 0.40460205 0.38535517 0.36719307]\n",
            "19 day output [[0.3502047]] \n",
            "20 day input [0.29930646 0.29958127 0.30370322 0.31557183 0.31678882 0.31922272\n",
            " 0.32212772 0.31555877 0.31104423 0.31376603 0.31258832 0.37147343\n",
            " 0.40870192 0.4081523  0.39311699 0.39153364 0.39141588 0.38930908\n",
            " 0.39475268 0.39442554 0.40667363 0.41839834 0.42049204 0.43089505\n",
            " 0.43722847 0.43222976 0.43646952 0.44015966 0.43730697 0.44977753\n",
            " 0.44022507 0.44364039 0.41512694 0.41944517 0.40973569 0.41283697\n",
            " 0.4110704  0.41752158 0.41926199 0.41511384 0.41163307 0.41885634\n",
            " 0.42361947 0.43580214 0.4408532  0.44998691 0.44829889 0.47853965\n",
            " 0.47525516 0.49378434 0.50803456 0.51006281 0.52789846 0.53578906\n",
            " 0.54323476 0.54250197 0.52198379 0.52673382 0.54234495 0.55902906\n",
            " 0.57019106 0.59311698 0.62331852 0.60918607 0.60501177 0.6661345\n",
            " 0.68322426 0.65781209 0.6512562  0.64734363 0.69536772 0.72462706\n",
            " 0.72808167 0.71842451 0.70952633 0.72114633 0.73958387 0.81786181\n",
            " 0.83063335 1.         0.72664058 0.74618435 0.74465024 0.72899985\n",
            " 0.70552951 0.67843133 0.65008038 0.62168777 0.59383351 0.56678873\n",
            " 0.54067844 0.51555353 0.4914237  0.46827593 0.4460915  0.42486197\n",
            " 0.40460205 0.38535517 0.36719307 0.35020471]\n",
            "20 day output [[0.33448124]] \n",
            "21 day input [0.29958127 0.30370322 0.31557183 0.31678882 0.31922272 0.32212772\n",
            " 0.31555877 0.31104423 0.31376603 0.31258832 0.37147343 0.40870192\n",
            " 0.4081523  0.39311699 0.39153364 0.39141588 0.38930908 0.39475268\n",
            " 0.39442554 0.40667363 0.41839834 0.42049204 0.43089505 0.43722847\n",
            " 0.43222976 0.43646952 0.44015966 0.43730697 0.44977753 0.44022507\n",
            " 0.44364039 0.41512694 0.41944517 0.40973569 0.41283697 0.4110704\n",
            " 0.41752158 0.41926199 0.41511384 0.41163307 0.41885634 0.42361947\n",
            " 0.43580214 0.4408532  0.44998691 0.44829889 0.47853965 0.47525516\n",
            " 0.49378434 0.50803456 0.51006281 0.52789846 0.53578906 0.54323476\n",
            " 0.54250197 0.52198379 0.52673382 0.54234495 0.55902906 0.57019106\n",
            " 0.59311698 0.62331852 0.60918607 0.60501177 0.6661345  0.68322426\n",
            " 0.65781209 0.6512562  0.64734363 0.69536772 0.72462706 0.72808167\n",
            " 0.71842451 0.70952633 0.72114633 0.73958387 0.81786181 0.83063335\n",
            " 1.         0.72664058 0.74618435 0.74465024 0.72899985 0.70552951\n",
            " 0.67843133 0.65008038 0.62168777 0.59383351 0.56678873 0.54067844\n",
            " 0.51555353 0.4914237  0.46827593 0.4460915  0.42486197 0.40460205\n",
            " 0.38535517 0.36719307 0.35020471 0.33448124]\n",
            "21 day output [[0.320099]] \n",
            "22 day input [0.30370322 0.31557183 0.31678882 0.31922272 0.32212772 0.31555877\n",
            " 0.31104423 0.31376603 0.31258832 0.37147343 0.40870192 0.4081523\n",
            " 0.39311699 0.39153364 0.39141588 0.38930908 0.39475268 0.39442554\n",
            " 0.40667363 0.41839834 0.42049204 0.43089505 0.43722847 0.43222976\n",
            " 0.43646952 0.44015966 0.43730697 0.44977753 0.44022507 0.44364039\n",
            " 0.41512694 0.41944517 0.40973569 0.41283697 0.4110704  0.41752158\n",
            " 0.41926199 0.41511384 0.41163307 0.41885634 0.42361947 0.43580214\n",
            " 0.4408532  0.44998691 0.44829889 0.47853965 0.47525516 0.49378434\n",
            " 0.50803456 0.51006281 0.52789846 0.53578906 0.54323476 0.54250197\n",
            " 0.52198379 0.52673382 0.54234495 0.55902906 0.57019106 0.59311698\n",
            " 0.62331852 0.60918607 0.60501177 0.6661345  0.68322426 0.65781209\n",
            " 0.6512562  0.64734363 0.69536772 0.72462706 0.72808167 0.71842451\n",
            " 0.70952633 0.72114633 0.73958387 0.81786181 0.83063335 1.\n",
            " 0.72664058 0.74618435 0.74465024 0.72899985 0.70552951 0.67843133\n",
            " 0.65008038 0.62168777 0.59383351 0.56678873 0.54067844 0.51555353\n",
            " 0.4914237  0.46827593 0.4460915  0.42486197 0.40460205 0.38535517\n",
            " 0.36719307 0.35020471 0.33448124 0.320099  ]\n",
            "22 day output [[0.3071056]] \n",
            "23 day input [0.31557183 0.31678882 0.31922272 0.32212772 0.31555877 0.31104423\n",
            " 0.31376603 0.31258832 0.37147343 0.40870192 0.4081523  0.39311699\n",
            " 0.39153364 0.39141588 0.38930908 0.39475268 0.39442554 0.40667363\n",
            " 0.41839834 0.42049204 0.43089505 0.43722847 0.43222976 0.43646952\n",
            " 0.44015966 0.43730697 0.44977753 0.44022507 0.44364039 0.41512694\n",
            " 0.41944517 0.40973569 0.41283697 0.4110704  0.41752158 0.41926199\n",
            " 0.41511384 0.41163307 0.41885634 0.42361947 0.43580214 0.4408532\n",
            " 0.44998691 0.44829889 0.47853965 0.47525516 0.49378434 0.50803456\n",
            " 0.51006281 0.52789846 0.53578906 0.54323476 0.54250197 0.52198379\n",
            " 0.52673382 0.54234495 0.55902906 0.57019106 0.59311698 0.62331852\n",
            " 0.60918607 0.60501177 0.6661345  0.68322426 0.65781209 0.6512562\n",
            " 0.64734363 0.69536772 0.72462706 0.72808167 0.71842451 0.70952633\n",
            " 0.72114633 0.73958387 0.81786181 0.83063335 1.         0.72664058\n",
            " 0.74618435 0.74465024 0.72899985 0.70552951 0.67843133 0.65008038\n",
            " 0.62168777 0.59383351 0.56678873 0.54067844 0.51555353 0.4914237\n",
            " 0.46827593 0.4460915  0.42486197 0.40460205 0.38535517 0.36719307\n",
            " 0.35020471 0.33448124 0.320099   0.3071056 ]\n",
            "23 day output [[0.295511]] \n",
            "24 day input [0.31678882 0.31922272 0.32212772 0.31555877 0.31104423 0.31376603\n",
            " 0.31258832 0.37147343 0.40870192 0.4081523  0.39311699 0.39153364\n",
            " 0.39141588 0.38930908 0.39475268 0.39442554 0.40667363 0.41839834\n",
            " 0.42049204 0.43089505 0.43722847 0.43222976 0.43646952 0.44015966\n",
            " 0.43730697 0.44977753 0.44022507 0.44364039 0.41512694 0.41944517\n",
            " 0.40973569 0.41283697 0.4110704  0.41752158 0.41926199 0.41511384\n",
            " 0.41163307 0.41885634 0.42361947 0.43580214 0.4408532  0.44998691\n",
            " 0.44829889 0.47853965 0.47525516 0.49378434 0.50803456 0.51006281\n",
            " 0.52789846 0.53578906 0.54323476 0.54250197 0.52198379 0.52673382\n",
            " 0.54234495 0.55902906 0.57019106 0.59311698 0.62331852 0.60918607\n",
            " 0.60501177 0.6661345  0.68322426 0.65781209 0.6512562  0.64734363\n",
            " 0.69536772 0.72462706 0.72808167 0.71842451 0.70952633 0.72114633\n",
            " 0.73958387 0.81786181 0.83063335 1.         0.72664058 0.74618435\n",
            " 0.74465024 0.72899985 0.70552951 0.67843133 0.65008038 0.62168777\n",
            " 0.59383351 0.56678873 0.54067844 0.51555353 0.4914237  0.46827593\n",
            " 0.4460915  0.42486197 0.40460205 0.38535517 0.36719307 0.35020471\n",
            " 0.33448124 0.320099   0.3071056  0.29551101]\n",
            "24 day output [[0.28528625]] \n",
            "25 day input [0.31922272 0.32212772 0.31555877 0.31104423 0.31376603 0.31258832\n",
            " 0.37147343 0.40870192 0.4081523  0.39311699 0.39153364 0.39141588\n",
            " 0.38930908 0.39475268 0.39442554 0.40667363 0.41839834 0.42049204\n",
            " 0.43089505 0.43722847 0.43222976 0.43646952 0.44015966 0.43730697\n",
            " 0.44977753 0.44022507 0.44364039 0.41512694 0.41944517 0.40973569\n",
            " 0.41283697 0.4110704  0.41752158 0.41926199 0.41511384 0.41163307\n",
            " 0.41885634 0.42361947 0.43580214 0.4408532  0.44998691 0.44829889\n",
            " 0.47853965 0.47525516 0.49378434 0.50803456 0.51006281 0.52789846\n",
            " 0.53578906 0.54323476 0.54250197 0.52198379 0.52673382 0.54234495\n",
            " 0.55902906 0.57019106 0.59311698 0.62331852 0.60918607 0.60501177\n",
            " 0.6661345  0.68322426 0.65781209 0.6512562  0.64734363 0.69536772\n",
            " 0.72462706 0.72808167 0.71842451 0.70952633 0.72114633 0.73958387\n",
            " 0.81786181 0.83063335 1.         0.72664058 0.74618435 0.74465024\n",
            " 0.72899985 0.70552951 0.67843133 0.65008038 0.62168777 0.59383351\n",
            " 0.56678873 0.54067844 0.51555353 0.4914237  0.46827593 0.4460915\n",
            " 0.42486197 0.40460205 0.38535517 0.36719307 0.35020471 0.33448124\n",
            " 0.320099   0.3071056  0.29551101 0.28528625]\n",
            "25 day output [[0.27636752]] \n",
            "26 day input [0.32212772 0.31555877 0.31104423 0.31376603 0.31258832 0.37147343\n",
            " 0.40870192 0.4081523  0.39311699 0.39153364 0.39141588 0.38930908\n",
            " 0.39475268 0.39442554 0.40667363 0.41839834 0.42049204 0.43089505\n",
            " 0.43722847 0.43222976 0.43646952 0.44015966 0.43730697 0.44977753\n",
            " 0.44022507 0.44364039 0.41512694 0.41944517 0.40973569 0.41283697\n",
            " 0.4110704  0.41752158 0.41926199 0.41511384 0.41163307 0.41885634\n",
            " 0.42361947 0.43580214 0.4408532  0.44998691 0.44829889 0.47853965\n",
            " 0.47525516 0.49378434 0.50803456 0.51006281 0.52789846 0.53578906\n",
            " 0.54323476 0.54250197 0.52198379 0.52673382 0.54234495 0.55902906\n",
            " 0.57019106 0.59311698 0.62331852 0.60918607 0.60501177 0.6661345\n",
            " 0.68322426 0.65781209 0.6512562  0.64734363 0.69536772 0.72462706\n",
            " 0.72808167 0.71842451 0.70952633 0.72114633 0.73958387 0.81786181\n",
            " 0.83063335 1.         0.72664058 0.74618435 0.74465024 0.72899985\n",
            " 0.70552951 0.67843133 0.65008038 0.62168777 0.59383351 0.56678873\n",
            " 0.54067844 0.51555353 0.4914237  0.46827593 0.4460915  0.42486197\n",
            " 0.40460205 0.38535517 0.36719307 0.35020471 0.33448124 0.320099\n",
            " 0.3071056  0.29551101 0.28528625 0.27636752]\n",
            "26 day output [[0.26866436]] \n",
            "27 day input [0.31555877 0.31104423 0.31376603 0.31258832 0.37147343 0.40870192\n",
            " 0.4081523  0.39311699 0.39153364 0.39141588 0.38930908 0.39475268\n",
            " 0.39442554 0.40667363 0.41839834 0.42049204 0.43089505 0.43722847\n",
            " 0.43222976 0.43646952 0.44015966 0.43730697 0.44977753 0.44022507\n",
            " 0.44364039 0.41512694 0.41944517 0.40973569 0.41283697 0.4110704\n",
            " 0.41752158 0.41926199 0.41511384 0.41163307 0.41885634 0.42361947\n",
            " 0.43580214 0.4408532  0.44998691 0.44829889 0.47853965 0.47525516\n",
            " 0.49378434 0.50803456 0.51006281 0.52789846 0.53578906 0.54323476\n",
            " 0.54250197 0.52198379 0.52673382 0.54234495 0.55902906 0.57019106\n",
            " 0.59311698 0.62331852 0.60918607 0.60501177 0.6661345  0.68322426\n",
            " 0.65781209 0.6512562  0.64734363 0.69536772 0.72462706 0.72808167\n",
            " 0.71842451 0.70952633 0.72114633 0.73958387 0.81786181 0.83063335\n",
            " 1.         0.72664058 0.74618435 0.74465024 0.72899985 0.70552951\n",
            " 0.67843133 0.65008038 0.62168777 0.59383351 0.56678873 0.54067844\n",
            " 0.51555353 0.4914237  0.46827593 0.4460915  0.42486197 0.40460205\n",
            " 0.38535517 0.36719307 0.35020471 0.33448124 0.320099   0.3071056\n",
            " 0.29551101 0.28528625 0.27636752 0.26866436]\n",
            "27 day output [[0.2620692]] \n",
            "28 day input [0.31104423 0.31376603 0.31258832 0.37147343 0.40870192 0.4081523\n",
            " 0.39311699 0.39153364 0.39141588 0.38930908 0.39475268 0.39442554\n",
            " 0.40667363 0.41839834 0.42049204 0.43089505 0.43722847 0.43222976\n",
            " 0.43646952 0.44015966 0.43730697 0.44977753 0.44022507 0.44364039\n",
            " 0.41512694 0.41944517 0.40973569 0.41283697 0.4110704  0.41752158\n",
            " 0.41926199 0.41511384 0.41163307 0.41885634 0.42361947 0.43580214\n",
            " 0.4408532  0.44998691 0.44829889 0.47853965 0.47525516 0.49378434\n",
            " 0.50803456 0.51006281 0.52789846 0.53578906 0.54323476 0.54250197\n",
            " 0.52198379 0.52673382 0.54234495 0.55902906 0.57019106 0.59311698\n",
            " 0.62331852 0.60918607 0.60501177 0.6661345  0.68322426 0.65781209\n",
            " 0.6512562  0.64734363 0.69536772 0.72462706 0.72808167 0.71842451\n",
            " 0.70952633 0.72114633 0.73958387 0.81786181 0.83063335 1.\n",
            " 0.72664058 0.74618435 0.74465024 0.72899985 0.70552951 0.67843133\n",
            " 0.65008038 0.62168777 0.59383351 0.56678873 0.54067844 0.51555353\n",
            " 0.4914237  0.46827593 0.4460915  0.42486197 0.40460205 0.38535517\n",
            " 0.36719307 0.35020471 0.33448124 0.320099   0.3071056  0.29551101\n",
            " 0.28528625 0.27636752 0.26866436 0.2620692 ]\n",
            "28 day output [[0.256466]] \n",
            "29 day input [0.31376603 0.31258832 0.37147343 0.40870192 0.4081523  0.39311699\n",
            " 0.39153364 0.39141588 0.38930908 0.39475268 0.39442554 0.40667363\n",
            " 0.41839834 0.42049204 0.43089505 0.43722847 0.43222976 0.43646952\n",
            " 0.44015966 0.43730697 0.44977753 0.44022507 0.44364039 0.41512694\n",
            " 0.41944517 0.40973569 0.41283697 0.4110704  0.41752158 0.41926199\n",
            " 0.41511384 0.41163307 0.41885634 0.42361947 0.43580214 0.4408532\n",
            " 0.44998691 0.44829889 0.47853965 0.47525516 0.49378434 0.50803456\n",
            " 0.51006281 0.52789846 0.53578906 0.54323476 0.54250197 0.52198379\n",
            " 0.52673382 0.54234495 0.55902906 0.57019106 0.59311698 0.62331852\n",
            " 0.60918607 0.60501177 0.6661345  0.68322426 0.65781209 0.6512562\n",
            " 0.64734363 0.69536772 0.72462706 0.72808167 0.71842451 0.70952633\n",
            " 0.72114633 0.73958387 0.81786181 0.83063335 1.         0.72664058\n",
            " 0.74618435 0.74465024 0.72899985 0.70552951 0.67843133 0.65008038\n",
            " 0.62168777 0.59383351 0.56678873 0.54067844 0.51555353 0.4914237\n",
            " 0.46827593 0.4460915  0.42486197 0.40460205 0.38535517 0.36719307\n",
            " 0.35020471 0.33448124 0.320099   0.3071056  0.29551101 0.28528625\n",
            " 0.27636752 0.26866436 0.2620692  0.256466  ]\n",
            "29 day output [[0.2517385]] \n",
            "[[0.7266405820846558], [0.7461843490600586], [0.7446502447128296], [0.7289998531341553], [0.705529510974884], [0.6784313321113586], [0.6500803828239441], [0.6216877698898315], [0.5938335061073303], [0.5667887330055237], [0.5406784415245056], [0.5155535340309143], [0.49142369627952576], [0.46827593445777893], [0.44609150290489197], [0.42486196756362915], [0.40460205078125], [0.3853551745414734], [0.3671930730342865], [0.3502047061920166], [0.33448123931884766], [0.32009899616241455], [0.3071056008338928], [0.29551100730895996], [0.2852862477302551], [0.27636751532554626], [0.2686643600463867], [0.2620691955089569], [0.25646600127220154], [0.2517384886741638]]\n"
          ]
        }
      ]
    },
    {
      "cell_type": "code",
      "source": [
        "day_new = np.arange(1,101)\n",
        "day_pred = np.arange(101,131)\n"
      ],
      "metadata": {
        "id": "GZpGE8zs42oU"
      },
      "execution_count": 101,
      "outputs": []
    },
    {
      "cell_type": "code",
      "source": [
        "import matplotlib.pyplot as plt"
      ],
      "metadata": {
        "id": "96Ds4Mvx5KeY"
      },
      "execution_count": 102,
      "outputs": []
    },
    {
      "cell_type": "code",
      "source": [
        "len(df1)"
      ],
      "metadata": {
        "colab": {
          "base_uri": "https://localhost:8080/"
        },
        "id": "-a8eh7co5UEt",
        "outputId": "80fcd26b-315e-47c3-afd6-fc75fc476b16"
      },
      "execution_count": 103,
      "outputs": [
        {
          "output_type": "execute_result",
          "data": {
            "text/plain": [
              "2416"
            ]
          },
          "metadata": {},
          "execution_count": 103
        }
      ]
    },
    {
      "cell_type": "code",
      "source": [
        "df2 = df1.tolist()\n",
        "df2.extend(lst_output)"
      ],
      "metadata": {
        "id": "nD6_EIbj5WAi"
      },
      "execution_count": 104,
      "outputs": []
    },
    {
      "cell_type": "code",
      "source": [
        "plt.plot(day_new,scaler.inverse_transform(df1[2316:]))\n",
        "plt.plot(day_pred,scaler.inverse_transform(lst_output))"
      ],
      "metadata": {
        "colab": {
          "base_uri": "https://localhost:8080/",
          "height": 447
        },
        "id": "PrVEaIpw5eDj",
        "outputId": "1ece7985-9703-44fc-bec6-521263e11bb6"
      },
      "execution_count": 105,
      "outputs": [
        {
          "output_type": "execute_result",
          "data": {
            "text/plain": [
              "[<matplotlib.lines.Line2D at 0x7f7f15525520>]"
            ]
          },
          "metadata": {},
          "execution_count": 105
        },
        {
          "output_type": "display_data",
          "data": {
            "text/plain": [
              "<Figure size 640x480 with 1 Axes>"
            ],
            "image/png": "[encoded data removed]"
          },
          "metadata": {}
        }
      ]
    },
    {
      "cell_type": "code",
      "source": [
        "df2 = df1.tolist()\n",
        "df2.extend(lst_output)\n",
        "plt.plot(df2[1000:])"
      ],
      "metadata": {
        "colab": {
          "base_uri": "https://localhost:8080/",
          "height": 447
        },
        "id": "UNrgNEIJ54n7",
        "outputId": "1979c81e-fc03-4a98-c142-42ab6eb1036a"
      },
      "execution_count": 107,
      "outputs": [
        {
          "output_type": "execute_result",
          "data": {
            "text/plain": [
              "[<matplotlib.lines.Line2D at 0x7f7f1549df70>]"
            ]
          },
          "metadata": {},
          "execution_count": 107
        },
        {
          "output_type": "display_data",
          "data": {
            "text/plain": [
              "<Figure size 640x480 with 1 Axes>"
            ],
            "image/png": "[encoded data removed]"
          },
          "metadata": {}
        }
      ]
    },
    {
      "cell_type": "code",
      "source": [],
      "metadata": {
        "id": "R0THxxGK6V64"
      },
      "execution_count": null,
      "outputs": []
    }
  ]
}